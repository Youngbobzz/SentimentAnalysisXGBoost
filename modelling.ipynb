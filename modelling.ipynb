{
 "cells": [
  {
   "cell_type": "markdown",
   "metadata": {},
   "source": [
    "# **Modelling**"
   ]
  },
  {
   "cell_type": "code",
   "execution_count": 7,
   "metadata": {},
   "outputs": [],
   "source": [
    "import pandas as pd\n",
    "import numpy as np\n",
    "import matplotlib.pyplot as plt\n",
    "from sklearn.feature_extraction.text import CountVectorizer\n",
    "from sklearn.feature_extraction.text import TfidfTransformer\n",
    "from sklearn.model_selection import train_test_split\n",
    "from sklearn.model_selection import GridSearchCV, RandomizedSearchCV\n",
    "from sklearn import metrics\n",
    "from sklearn.metrics import confusion_matrix,make_scorer, make_scorer,accuracy_score,precision_score,recall_score,f1_score, roc_auc_score, roc_curve, classification_report\n",
    "from jcopml.feature_importance import mean_score_decrease\n",
    "from scipy.stats import uniform\n",
    "from sklearn.model_selection import cross_val_score\n",
    "import xgboost as xgb\n",
    "import matplotlib.pyplot as plt\n",
    "import seaborn as sns\n",
    "import time"
   ]
  },
  {
   "cell_type": "code",
   "execution_count": 8,
   "metadata": {},
   "outputs": [
    {
     "data": {
      "text/html": [
       "<div>\n",
       "<style scoped>\n",
       "    .dataframe tbody tr th:only-of-type {\n",
       "        vertical-align: middle;\n",
       "    }\n",
       "\n",
       "    .dataframe tbody tr th {\n",
       "        vertical-align: top;\n",
       "    }\n",
       "\n",
       "    .dataframe thead th {\n",
       "        text-align: right;\n",
       "    }\n",
       "</style>\n",
       "<table border=\"1\" class=\"dataframe\">\n",
       "  <thead>\n",
       "    <tr style=\"text-align: right;\">\n",
       "      <th></th>\n",
       "      <th>review</th>\n",
       "      <th>polarity</th>\n",
       "      <th>sentiment</th>\n",
       "    </tr>\n",
       "  </thead>\n",
       "  <tbody>\n",
       "    <tr>\n",
       "      <th>0</th>\n",
       "      <td>one of the popular campuses in malang the peop...</td>\n",
       "      <td>0.275000</td>\n",
       "      <td>Positive</td>\n",
       "    </tr>\n",
       "    <tr>\n",
       "      <th>1</th>\n",
       "      <td>i visited here to take my sister to study here...</td>\n",
       "      <td>0.537500</td>\n",
       "      <td>Positive</td>\n",
       "    </tr>\n",
       "    <tr>\n",
       "      <th>2</th>\n",
       "      <td>the clean campus is cool and nice for hanging ...</td>\n",
       "      <td>0.438889</td>\n",
       "      <td>Positive</td>\n",
       "    </tr>\n",
       "    <tr>\n",
       "      <th>3</th>\n",
       "      <td>sunday morning try going for a morning walk wi...</td>\n",
       "      <td>0.359722</td>\n",
       "      <td>Positive</td>\n",
       "    </tr>\n",
       "    <tr>\n",
       "      <th>4</th>\n",
       "      <td>the vocational faculty is still new and needs ...</td>\n",
       "      <td>0.145455</td>\n",
       "      <td>Positive</td>\n",
       "    </tr>\n",
       "    <tr>\n",
       "      <th>...</th>\n",
       "      <td>...</td>\n",
       "      <td>...</td>\n",
       "      <td>...</td>\n",
       "    </tr>\n",
       "    <tr>\n",
       "      <th>1013</th>\n",
       "      <td>beautiful and beautiful</td>\n",
       "      <td>0.850000</td>\n",
       "      <td>Positive</td>\n",
       "    </tr>\n",
       "    <tr>\n",
       "      <th>1014</th>\n",
       "      <td>beautiful campus</td>\n",
       "      <td>0.850000</td>\n",
       "      <td>Positive</td>\n",
       "    </tr>\n",
       "    <tr>\n",
       "      <th>1015</th>\n",
       "      <td>good</td>\n",
       "      <td>0.700000</td>\n",
       "      <td>Positive</td>\n",
       "    </tr>\n",
       "    <tr>\n",
       "      <th>1016</th>\n",
       "      <td>best campus</td>\n",
       "      <td>1.000000</td>\n",
       "      <td>Positive</td>\n",
       "    </tr>\n",
       "    <tr>\n",
       "      <th>1017</th>\n",
       "      <td>um it's special</td>\n",
       "      <td>0.357143</td>\n",
       "      <td>Positive</td>\n",
       "    </tr>\n",
       "  </tbody>\n",
       "</table>\n",
       "<p>1018 rows × 3 columns</p>\n",
       "</div>"
      ],
      "text/plain": [
       "                                                 review  polarity sentiment\n",
       "0     one of the popular campuses in malang the peop...  0.275000  Positive\n",
       "1     i visited here to take my sister to study here...  0.537500  Positive\n",
       "2     the clean campus is cool and nice for hanging ...  0.438889  Positive\n",
       "3     sunday morning try going for a morning walk wi...  0.359722  Positive\n",
       "4     the vocational faculty is still new and needs ...  0.145455  Positive\n",
       "...                                                 ...       ...       ...\n",
       "1013                            beautiful and beautiful  0.850000  Positive\n",
       "1014                                   beautiful campus  0.850000  Positive\n",
       "1015                                               good  0.700000  Positive\n",
       "1016                                        best campus  1.000000  Positive\n",
       "1017                                    um it's special  0.357143  Positive\n",
       "\n",
       "[1018 rows x 3 columns]"
      ]
     },
     "execution_count": 8,
     "metadata": {},
     "output_type": "execute_result"
    }
   ],
   "source": [
    "df = pd.read_csv(\"C:/Users/Nafi Kareem/OneDrive/Dokumen/Data MIning/Text Mining/Sentiment Analysis Projects/translated_data.csv\")\n",
    "df"
   ]
  },
  {
   "cell_type": "markdown",
   "metadata": {},
   "source": [
    "**Tokenization and Stemming**"
   ]
  },
  {
   "cell_type": "code",
   "execution_count": 9,
   "metadata": {},
   "outputs": [
    {
     "data": {
      "text/html": [
       "<div>\n",
       "<style scoped>\n",
       "    .dataframe tbody tr th:only-of-type {\n",
       "        vertical-align: middle;\n",
       "    }\n",
       "\n",
       "    .dataframe tbody tr th {\n",
       "        vertical-align: top;\n",
       "    }\n",
       "\n",
       "    .dataframe thead th {\n",
       "        text-align: right;\n",
       "    }\n",
       "</style>\n",
       "<table border=\"1\" class=\"dataframe\">\n",
       "  <thead>\n",
       "    <tr style=\"text-align: right;\">\n",
       "      <th></th>\n",
       "      <th>review</th>\n",
       "      <th>polarity</th>\n",
       "      <th>sentiment</th>\n",
       "    </tr>\n",
       "  </thead>\n",
       "  <tbody>\n",
       "    <tr>\n",
       "      <th>0</th>\n",
       "      <td>[one, of, the, popular, campuses, in, malang, ...</td>\n",
       "      <td>0.275000</td>\n",
       "      <td>Positive</td>\n",
       "    </tr>\n",
       "    <tr>\n",
       "      <th>1</th>\n",
       "      <td>[i, visited, here, to, take, my, sister, to, s...</td>\n",
       "      <td>0.537500</td>\n",
       "      <td>Positive</td>\n",
       "    </tr>\n",
       "    <tr>\n",
       "      <th>2</th>\n",
       "      <td>[the, clean, campus, is, cool, and, nice, for,...</td>\n",
       "      <td>0.438889</td>\n",
       "      <td>Positive</td>\n",
       "    </tr>\n",
       "    <tr>\n",
       "      <th>3</th>\n",
       "      <td>[sunday, morning, try, going, for, a, morning,...</td>\n",
       "      <td>0.359722</td>\n",
       "      <td>Positive</td>\n",
       "    </tr>\n",
       "    <tr>\n",
       "      <th>4</th>\n",
       "      <td>[the, vocational, faculty, is, still, new, and...</td>\n",
       "      <td>0.145455</td>\n",
       "      <td>Positive</td>\n",
       "    </tr>\n",
       "    <tr>\n",
       "      <th>...</th>\n",
       "      <td>...</td>\n",
       "      <td>...</td>\n",
       "      <td>...</td>\n",
       "    </tr>\n",
       "    <tr>\n",
       "      <th>1013</th>\n",
       "      <td>[beautiful, and, beautiful]</td>\n",
       "      <td>0.850000</td>\n",
       "      <td>Positive</td>\n",
       "    </tr>\n",
       "    <tr>\n",
       "      <th>1014</th>\n",
       "      <td>[beautiful, campus]</td>\n",
       "      <td>0.850000</td>\n",
       "      <td>Positive</td>\n",
       "    </tr>\n",
       "    <tr>\n",
       "      <th>1015</th>\n",
       "      <td>[good]</td>\n",
       "      <td>0.700000</td>\n",
       "      <td>Positive</td>\n",
       "    </tr>\n",
       "    <tr>\n",
       "      <th>1016</th>\n",
       "      <td>[best, campus]</td>\n",
       "      <td>1.000000</td>\n",
       "      <td>Positive</td>\n",
       "    </tr>\n",
       "    <tr>\n",
       "      <th>1017</th>\n",
       "      <td>[um, it, 's, special]</td>\n",
       "      <td>0.357143</td>\n",
       "      <td>Positive</td>\n",
       "    </tr>\n",
       "  </tbody>\n",
       "</table>\n",
       "<p>1018 rows × 3 columns</p>\n",
       "</div>"
      ],
      "text/plain": [
       "                                                 review  polarity sentiment\n",
       "0     [one, of, the, popular, campuses, in, malang, ...  0.275000  Positive\n",
       "1     [i, visited, here, to, take, my, sister, to, s...  0.537500  Positive\n",
       "2     [the, clean, campus, is, cool, and, nice, for,...  0.438889  Positive\n",
       "3     [sunday, morning, try, going, for, a, morning,...  0.359722  Positive\n",
       "4     [the, vocational, faculty, is, still, new, and...  0.145455  Positive\n",
       "...                                                 ...       ...       ...\n",
       "1013                        [beautiful, and, beautiful]  0.850000  Positive\n",
       "1014                                [beautiful, campus]  0.850000  Positive\n",
       "1015                                             [good]  0.700000  Positive\n",
       "1016                                     [best, campus]  1.000000  Positive\n",
       "1017                              [um, it, 's, special]  0.357143  Positive\n",
       "\n",
       "[1018 rows x 3 columns]"
      ]
     },
     "execution_count": 9,
     "metadata": {},
     "output_type": "execute_result"
    }
   ],
   "source": [
    "from nltk.tokenize import word_tokenize\n",
    "def word_tokenize_wrapper(text):\n",
    "    return word_tokenize(text)\n",
    "df['review'] = df['review'].apply(word_tokenize_wrapper)\n",
    "df"
   ]
  },
  {
   "cell_type": "code",
   "execution_count": 10,
   "metadata": {},
   "outputs": [
    {
     "data": {
      "text/html": [
       "<div>\n",
       "<style scoped>\n",
       "    .dataframe tbody tr th:only-of-type {\n",
       "        vertical-align: middle;\n",
       "    }\n",
       "\n",
       "    .dataframe tbody tr th {\n",
       "        vertical-align: top;\n",
       "    }\n",
       "\n",
       "    .dataframe thead th {\n",
       "        text-align: right;\n",
       "    }\n",
       "</style>\n",
       "<table border=\"1\" class=\"dataframe\">\n",
       "  <thead>\n",
       "    <tr style=\"text-align: right;\">\n",
       "      <th></th>\n",
       "      <th>review</th>\n",
       "      <th>polarity</th>\n",
       "      <th>sentiment</th>\n",
       "    </tr>\n",
       "  </thead>\n",
       "  <tbody>\n",
       "    <tr>\n",
       "      <th>0</th>\n",
       "      <td>[one, of, the, popular, campus, in, malang, th...</td>\n",
       "      <td>0.275000</td>\n",
       "      <td>Positive</td>\n",
       "    </tr>\n",
       "    <tr>\n",
       "      <th>1</th>\n",
       "      <td>[i, visit, here, to, take, my, sister, to, stu...</td>\n",
       "      <td>0.537500</td>\n",
       "      <td>Positive</td>\n",
       "    </tr>\n",
       "    <tr>\n",
       "      <th>2</th>\n",
       "      <td>[the, clean, campu, is, cool, and, nice, for, ...</td>\n",
       "      <td>0.438889</td>\n",
       "      <td>Positive</td>\n",
       "    </tr>\n",
       "    <tr>\n",
       "      <th>3</th>\n",
       "      <td>[sunday, morn, tri, go, for, a, morn, walk, wi...</td>\n",
       "      <td>0.359722</td>\n",
       "      <td>Positive</td>\n",
       "    </tr>\n",
       "    <tr>\n",
       "      <th>4</th>\n",
       "      <td>[the, vocat, faculti, is, still, new, and, nee...</td>\n",
       "      <td>0.145455</td>\n",
       "      <td>Positive</td>\n",
       "    </tr>\n",
       "    <tr>\n",
       "      <th>...</th>\n",
       "      <td>...</td>\n",
       "      <td>...</td>\n",
       "      <td>...</td>\n",
       "    </tr>\n",
       "    <tr>\n",
       "      <th>1013</th>\n",
       "      <td>[beauti, and, beauti]</td>\n",
       "      <td>0.850000</td>\n",
       "      <td>Positive</td>\n",
       "    </tr>\n",
       "    <tr>\n",
       "      <th>1014</th>\n",
       "      <td>[beauti, campu]</td>\n",
       "      <td>0.850000</td>\n",
       "      <td>Positive</td>\n",
       "    </tr>\n",
       "    <tr>\n",
       "      <th>1015</th>\n",
       "      <td>[good]</td>\n",
       "      <td>0.700000</td>\n",
       "      <td>Positive</td>\n",
       "    </tr>\n",
       "    <tr>\n",
       "      <th>1016</th>\n",
       "      <td>[best, campu]</td>\n",
       "      <td>1.000000</td>\n",
       "      <td>Positive</td>\n",
       "    </tr>\n",
       "    <tr>\n",
       "      <th>1017</th>\n",
       "      <td>[um, it, 's, special]</td>\n",
       "      <td>0.357143</td>\n",
       "      <td>Positive</td>\n",
       "    </tr>\n",
       "  </tbody>\n",
       "</table>\n",
       "<p>1018 rows × 3 columns</p>\n",
       "</div>"
      ],
      "text/plain": [
       "                                                 review  polarity sentiment\n",
       "0     [one, of, the, popular, campus, in, malang, th...  0.275000  Positive\n",
       "1     [i, visit, here, to, take, my, sister, to, stu...  0.537500  Positive\n",
       "2     [the, clean, campu, is, cool, and, nice, for, ...  0.438889  Positive\n",
       "3     [sunday, morn, tri, go, for, a, morn, walk, wi...  0.359722  Positive\n",
       "4     [the, vocat, faculti, is, still, new, and, nee...  0.145455  Positive\n",
       "...                                                 ...       ...       ...\n",
       "1013                              [beauti, and, beauti]  0.850000  Positive\n",
       "1014                                    [beauti, campu]  0.850000  Positive\n",
       "1015                                             [good]  0.700000  Positive\n",
       "1016                                      [best, campu]  1.000000  Positive\n",
       "1017                              [um, it, 's, special]  0.357143  Positive\n",
       "\n",
       "[1018 rows x 3 columns]"
      ]
     },
     "execution_count": 10,
     "metadata": {},
     "output_type": "execute_result"
    }
   ],
   "source": [
    "from nltk.stem import PorterStemmer\n",
    "\n",
    "stemmer = PorterStemmer()\n",
    "df['review'] = df['review'].apply(lambda x: [stemmer.stem(token) for token in x])\n",
    "df"
   ]
  },
  {
   "cell_type": "markdown",
   "metadata": {},
   "source": [
    "**Labeling**"
   ]
  },
  {
   "cell_type": "code",
   "execution_count": 11,
   "metadata": {},
   "outputs": [
    {
     "data": {
      "text/html": [
       "<div>\n",
       "<style scoped>\n",
       "    .dataframe tbody tr th:only-of-type {\n",
       "        vertical-align: middle;\n",
       "    }\n",
       "\n",
       "    .dataframe tbody tr th {\n",
       "        vertical-align: top;\n",
       "    }\n",
       "\n",
       "    .dataframe thead th {\n",
       "        text-align: right;\n",
       "    }\n",
       "</style>\n",
       "<table border=\"1\" class=\"dataframe\">\n",
       "  <thead>\n",
       "    <tr style=\"text-align: right;\">\n",
       "      <th></th>\n",
       "      <th>label_sen</th>\n",
       "    </tr>\n",
       "  </thead>\n",
       "  <tbody>\n",
       "    <tr>\n",
       "      <th>0</th>\n",
       "      <td>1.0</td>\n",
       "    </tr>\n",
       "    <tr>\n",
       "      <th>1</th>\n",
       "      <td>1.0</td>\n",
       "    </tr>\n",
       "    <tr>\n",
       "      <th>2</th>\n",
       "      <td>1.0</td>\n",
       "    </tr>\n",
       "    <tr>\n",
       "      <th>3</th>\n",
       "      <td>1.0</td>\n",
       "    </tr>\n",
       "    <tr>\n",
       "      <th>4</th>\n",
       "      <td>1.0</td>\n",
       "    </tr>\n",
       "    <tr>\n",
       "      <th>...</th>\n",
       "      <td>...</td>\n",
       "    </tr>\n",
       "    <tr>\n",
       "      <th>1013</th>\n",
       "      <td>1.0</td>\n",
       "    </tr>\n",
       "    <tr>\n",
       "      <th>1014</th>\n",
       "      <td>1.0</td>\n",
       "    </tr>\n",
       "    <tr>\n",
       "      <th>1015</th>\n",
       "      <td>1.0</td>\n",
       "    </tr>\n",
       "    <tr>\n",
       "      <th>1016</th>\n",
       "      <td>1.0</td>\n",
       "    </tr>\n",
       "    <tr>\n",
       "      <th>1017</th>\n",
       "      <td>1.0</td>\n",
       "    </tr>\n",
       "  </tbody>\n",
       "</table>\n",
       "<p>1018 rows × 1 columns</p>\n",
       "</div>"
      ],
      "text/plain": [
       "      label_sen\n",
       "0           1.0\n",
       "1           1.0\n",
       "2           1.0\n",
       "3           1.0\n",
       "4           1.0\n",
       "...         ...\n",
       "1013        1.0\n",
       "1014        1.0\n",
       "1015        1.0\n",
       "1016        1.0\n",
       "1017        1.0\n",
       "\n",
       "[1018 rows x 1 columns]"
      ]
     },
     "execution_count": 11,
     "metadata": {},
     "output_type": "execute_result"
    }
   ],
   "source": [
    "df.loc[df['sentiment']==\"Positive\",'label_sen']= 1\n",
    "df.loc[df['sentiment']==\"Negative\",'label_sen']= 0\n",
    "label_num = pd.DataFrame(df['label_sen'])\n",
    "label_num"
   ]
  },
  {
   "cell_type": "markdown",
   "metadata": {},
   "source": [
    "**Feature Extraction**"
   ]
  },
  {
   "cell_type": "code",
   "execution_count": 12,
   "metadata": {},
   "outputs": [
    {
     "data": {
      "text/html": [
       "<div>\n",
       "<style scoped>\n",
       "    .dataframe tbody tr th:only-of-type {\n",
       "        vertical-align: middle;\n",
       "    }\n",
       "\n",
       "    .dataframe tbody tr th {\n",
       "        vertical-align: top;\n",
       "    }\n",
       "\n",
       "    .dataframe thead th {\n",
       "        text-align: right;\n",
       "    }\n",
       "</style>\n",
       "<table border=\"1\" class=\"dataframe\">\n",
       "  <thead>\n",
       "    <tr style=\"text-align: right;\">\n",
       "      <th></th>\n",
       "      <th>1995</th>\n",
       "      <th>abbrevi</th>\n",
       "      <th>abil</th>\n",
       "      <th>abl</th>\n",
       "      <th>about</th>\n",
       "      <th>abroad</th>\n",
       "      <th>absolut</th>\n",
       "      <th>abund</th>\n",
       "      <th>academ</th>\n",
       "      <th>academi</th>\n",
       "      <th>...</th>\n",
       "      <th>yellow</th>\n",
       "      <th>yesterday</th>\n",
       "      <th>yet</th>\n",
       "      <th>yo</th>\n",
       "      <th>you</th>\n",
       "      <th>young</th>\n",
       "      <th>younger</th>\n",
       "      <th>your</th>\n",
       "      <th>yuem</th>\n",
       "      <th>zainoel</th>\n",
       "    </tr>\n",
       "  </thead>\n",
       "  <tbody>\n",
       "    <tr>\n",
       "      <th>0</th>\n",
       "      <td>0.0</td>\n",
       "      <td>0.0</td>\n",
       "      <td>0.0</td>\n",
       "      <td>0.0</td>\n",
       "      <td>0.0</td>\n",
       "      <td>0.0</td>\n",
       "      <td>0.0</td>\n",
       "      <td>0.0</td>\n",
       "      <td>0.0</td>\n",
       "      <td>0.0</td>\n",
       "      <td>...</td>\n",
       "      <td>0.0</td>\n",
       "      <td>0.0</td>\n",
       "      <td>0.0</td>\n",
       "      <td>0.0</td>\n",
       "      <td>0.114003</td>\n",
       "      <td>0.0</td>\n",
       "      <td>0.0</td>\n",
       "      <td>0.000000</td>\n",
       "      <td>0.0</td>\n",
       "      <td>0.0</td>\n",
       "    </tr>\n",
       "    <tr>\n",
       "      <th>1</th>\n",
       "      <td>0.0</td>\n",
       "      <td>0.0</td>\n",
       "      <td>0.0</td>\n",
       "      <td>0.0</td>\n",
       "      <td>0.0</td>\n",
       "      <td>0.0</td>\n",
       "      <td>0.0</td>\n",
       "      <td>0.0</td>\n",
       "      <td>0.0</td>\n",
       "      <td>0.0</td>\n",
       "      <td>...</td>\n",
       "      <td>0.0</td>\n",
       "      <td>0.0</td>\n",
       "      <td>0.0</td>\n",
       "      <td>0.0</td>\n",
       "      <td>0.000000</td>\n",
       "      <td>0.0</td>\n",
       "      <td>0.0</td>\n",
       "      <td>0.000000</td>\n",
       "      <td>0.0</td>\n",
       "      <td>0.0</td>\n",
       "    </tr>\n",
       "    <tr>\n",
       "      <th>2</th>\n",
       "      <td>0.0</td>\n",
       "      <td>0.0</td>\n",
       "      <td>0.0</td>\n",
       "      <td>0.0</td>\n",
       "      <td>0.0</td>\n",
       "      <td>0.0</td>\n",
       "      <td>0.0</td>\n",
       "      <td>0.0</td>\n",
       "      <td>0.0</td>\n",
       "      <td>0.0</td>\n",
       "      <td>...</td>\n",
       "      <td>0.0</td>\n",
       "      <td>0.0</td>\n",
       "      <td>0.0</td>\n",
       "      <td>0.0</td>\n",
       "      <td>0.000000</td>\n",
       "      <td>0.0</td>\n",
       "      <td>0.0</td>\n",
       "      <td>0.000000</td>\n",
       "      <td>0.0</td>\n",
       "      <td>0.0</td>\n",
       "    </tr>\n",
       "    <tr>\n",
       "      <th>3</th>\n",
       "      <td>0.0</td>\n",
       "      <td>0.0</td>\n",
       "      <td>0.0</td>\n",
       "      <td>0.0</td>\n",
       "      <td>0.0</td>\n",
       "      <td>0.0</td>\n",
       "      <td>0.0</td>\n",
       "      <td>0.0</td>\n",
       "      <td>0.0</td>\n",
       "      <td>0.0</td>\n",
       "      <td>...</td>\n",
       "      <td>0.0</td>\n",
       "      <td>0.0</td>\n",
       "      <td>0.0</td>\n",
       "      <td>0.0</td>\n",
       "      <td>0.000000</td>\n",
       "      <td>0.0</td>\n",
       "      <td>0.0</td>\n",
       "      <td>0.210327</td>\n",
       "      <td>0.0</td>\n",
       "      <td>0.0</td>\n",
       "    </tr>\n",
       "    <tr>\n",
       "      <th>4</th>\n",
       "      <td>0.0</td>\n",
       "      <td>0.0</td>\n",
       "      <td>0.0</td>\n",
       "      <td>0.0</td>\n",
       "      <td>0.0</td>\n",
       "      <td>0.0</td>\n",
       "      <td>0.0</td>\n",
       "      <td>0.0</td>\n",
       "      <td>0.0</td>\n",
       "      <td>0.0</td>\n",
       "      <td>...</td>\n",
       "      <td>0.0</td>\n",
       "      <td>0.0</td>\n",
       "      <td>0.0</td>\n",
       "      <td>0.0</td>\n",
       "      <td>0.000000</td>\n",
       "      <td>0.0</td>\n",
       "      <td>0.0</td>\n",
       "      <td>0.000000</td>\n",
       "      <td>0.0</td>\n",
       "      <td>0.0</td>\n",
       "    </tr>\n",
       "    <tr>\n",
       "      <th>...</th>\n",
       "      <td>...</td>\n",
       "      <td>...</td>\n",
       "      <td>...</td>\n",
       "      <td>...</td>\n",
       "      <td>...</td>\n",
       "      <td>...</td>\n",
       "      <td>...</td>\n",
       "      <td>...</td>\n",
       "      <td>...</td>\n",
       "      <td>...</td>\n",
       "      <td>...</td>\n",
       "      <td>...</td>\n",
       "      <td>...</td>\n",
       "      <td>...</td>\n",
       "      <td>...</td>\n",
       "      <td>...</td>\n",
       "      <td>...</td>\n",
       "      <td>...</td>\n",
       "      <td>...</td>\n",
       "      <td>...</td>\n",
       "      <td>...</td>\n",
       "    </tr>\n",
       "    <tr>\n",
       "      <th>1013</th>\n",
       "      <td>0.0</td>\n",
       "      <td>0.0</td>\n",
       "      <td>0.0</td>\n",
       "      <td>0.0</td>\n",
       "      <td>0.0</td>\n",
       "      <td>0.0</td>\n",
       "      <td>0.0</td>\n",
       "      <td>0.0</td>\n",
       "      <td>0.0</td>\n",
       "      <td>0.0</td>\n",
       "      <td>...</td>\n",
       "      <td>0.0</td>\n",
       "      <td>0.0</td>\n",
       "      <td>0.0</td>\n",
       "      <td>0.0</td>\n",
       "      <td>0.000000</td>\n",
       "      <td>0.0</td>\n",
       "      <td>0.0</td>\n",
       "      <td>0.000000</td>\n",
       "      <td>0.0</td>\n",
       "      <td>0.0</td>\n",
       "    </tr>\n",
       "    <tr>\n",
       "      <th>1014</th>\n",
       "      <td>0.0</td>\n",
       "      <td>0.0</td>\n",
       "      <td>0.0</td>\n",
       "      <td>0.0</td>\n",
       "      <td>0.0</td>\n",
       "      <td>0.0</td>\n",
       "      <td>0.0</td>\n",
       "      <td>0.0</td>\n",
       "      <td>0.0</td>\n",
       "      <td>0.0</td>\n",
       "      <td>...</td>\n",
       "      <td>0.0</td>\n",
       "      <td>0.0</td>\n",
       "      <td>0.0</td>\n",
       "      <td>0.0</td>\n",
       "      <td>0.000000</td>\n",
       "      <td>0.0</td>\n",
       "      <td>0.0</td>\n",
       "      <td>0.000000</td>\n",
       "      <td>0.0</td>\n",
       "      <td>0.0</td>\n",
       "    </tr>\n",
       "    <tr>\n",
       "      <th>1015</th>\n",
       "      <td>0.0</td>\n",
       "      <td>0.0</td>\n",
       "      <td>0.0</td>\n",
       "      <td>0.0</td>\n",
       "      <td>0.0</td>\n",
       "      <td>0.0</td>\n",
       "      <td>0.0</td>\n",
       "      <td>0.0</td>\n",
       "      <td>0.0</td>\n",
       "      <td>0.0</td>\n",
       "      <td>...</td>\n",
       "      <td>0.0</td>\n",
       "      <td>0.0</td>\n",
       "      <td>0.0</td>\n",
       "      <td>0.0</td>\n",
       "      <td>0.000000</td>\n",
       "      <td>0.0</td>\n",
       "      <td>0.0</td>\n",
       "      <td>0.000000</td>\n",
       "      <td>0.0</td>\n",
       "      <td>0.0</td>\n",
       "    </tr>\n",
       "    <tr>\n",
       "      <th>1016</th>\n",
       "      <td>0.0</td>\n",
       "      <td>0.0</td>\n",
       "      <td>0.0</td>\n",
       "      <td>0.0</td>\n",
       "      <td>0.0</td>\n",
       "      <td>0.0</td>\n",
       "      <td>0.0</td>\n",
       "      <td>0.0</td>\n",
       "      <td>0.0</td>\n",
       "      <td>0.0</td>\n",
       "      <td>...</td>\n",
       "      <td>0.0</td>\n",
       "      <td>0.0</td>\n",
       "      <td>0.0</td>\n",
       "      <td>0.0</td>\n",
       "      <td>0.000000</td>\n",
       "      <td>0.0</td>\n",
       "      <td>0.0</td>\n",
       "      <td>0.000000</td>\n",
       "      <td>0.0</td>\n",
       "      <td>0.0</td>\n",
       "    </tr>\n",
       "    <tr>\n",
       "      <th>1017</th>\n",
       "      <td>0.0</td>\n",
       "      <td>0.0</td>\n",
       "      <td>0.0</td>\n",
       "      <td>0.0</td>\n",
       "      <td>0.0</td>\n",
       "      <td>0.0</td>\n",
       "      <td>0.0</td>\n",
       "      <td>0.0</td>\n",
       "      <td>0.0</td>\n",
       "      <td>0.0</td>\n",
       "      <td>...</td>\n",
       "      <td>0.0</td>\n",
       "      <td>0.0</td>\n",
       "      <td>0.0</td>\n",
       "      <td>0.0</td>\n",
       "      <td>0.000000</td>\n",
       "      <td>0.0</td>\n",
       "      <td>0.0</td>\n",
       "      <td>0.000000</td>\n",
       "      <td>0.0</td>\n",
       "      <td>0.0</td>\n",
       "    </tr>\n",
       "  </tbody>\n",
       "</table>\n",
       "<p>1018 rows × 1347 columns</p>\n",
       "</div>"
      ],
      "text/plain": [
       "      1995  abbrevi  abil  abl  about  abroad  absolut  abund  academ  \\\n",
       "0      0.0      0.0   0.0  0.0    0.0     0.0      0.0    0.0     0.0   \n",
       "1      0.0      0.0   0.0  0.0    0.0     0.0      0.0    0.0     0.0   \n",
       "2      0.0      0.0   0.0  0.0    0.0     0.0      0.0    0.0     0.0   \n",
       "3      0.0      0.0   0.0  0.0    0.0     0.0      0.0    0.0     0.0   \n",
       "4      0.0      0.0   0.0  0.0    0.0     0.0      0.0    0.0     0.0   \n",
       "...    ...      ...   ...  ...    ...     ...      ...    ...     ...   \n",
       "1013   0.0      0.0   0.0  0.0    0.0     0.0      0.0    0.0     0.0   \n",
       "1014   0.0      0.0   0.0  0.0    0.0     0.0      0.0    0.0     0.0   \n",
       "1015   0.0      0.0   0.0  0.0    0.0     0.0      0.0    0.0     0.0   \n",
       "1016   0.0      0.0   0.0  0.0    0.0     0.0      0.0    0.0     0.0   \n",
       "1017   0.0      0.0   0.0  0.0    0.0     0.0      0.0    0.0     0.0   \n",
       "\n",
       "      academi  ...  yellow  yesterday  yet   yo       you  young  younger  \\\n",
       "0         0.0  ...     0.0        0.0  0.0  0.0  0.114003    0.0      0.0   \n",
       "1         0.0  ...     0.0        0.0  0.0  0.0  0.000000    0.0      0.0   \n",
       "2         0.0  ...     0.0        0.0  0.0  0.0  0.000000    0.0      0.0   \n",
       "3         0.0  ...     0.0        0.0  0.0  0.0  0.000000    0.0      0.0   \n",
       "4         0.0  ...     0.0        0.0  0.0  0.0  0.000000    0.0      0.0   \n",
       "...       ...  ...     ...        ...  ...  ...       ...    ...      ...   \n",
       "1013      0.0  ...     0.0        0.0  0.0  0.0  0.000000    0.0      0.0   \n",
       "1014      0.0  ...     0.0        0.0  0.0  0.0  0.000000    0.0      0.0   \n",
       "1015      0.0  ...     0.0        0.0  0.0  0.0  0.000000    0.0      0.0   \n",
       "1016      0.0  ...     0.0        0.0  0.0  0.0  0.000000    0.0      0.0   \n",
       "1017      0.0  ...     0.0        0.0  0.0  0.0  0.000000    0.0      0.0   \n",
       "\n",
       "          your  yuem  zainoel  \n",
       "0     0.000000   0.0      0.0  \n",
       "1     0.000000   0.0      0.0  \n",
       "2     0.000000   0.0      0.0  \n",
       "3     0.210327   0.0      0.0  \n",
       "4     0.000000   0.0      0.0  \n",
       "...        ...   ...      ...  \n",
       "1013  0.000000   0.0      0.0  \n",
       "1014  0.000000   0.0      0.0  \n",
       "1015  0.000000   0.0      0.0  \n",
       "1016  0.000000   0.0      0.0  \n",
       "1017  0.000000   0.0      0.0  \n",
       "\n",
       "[1018 rows x 1347 columns]"
      ]
     },
     "execution_count": 12,
     "metadata": {},
     "output_type": "execute_result"
    }
   ],
   "source": [
    "\n",
    "df_review = pd.DataFrame(index=df.index)\n",
    "\n",
    "for index, row in df.iterrows():\n",
    "    df_review.loc[index, 'review'] = ' '.join(row['review']) \n",
    "\n",
    "counter = CountVectorizer()\n",
    "X = counter.fit_transform(df_review['review'])\n",
    "vector = pd.DataFrame(X.toarray(), columns = counter.get_feature_names_out())\n",
    "\n",
    "vectorizer = TfidfTransformer()\n",
    "Y = vectorizer.fit_transform(X)\n",
    "df_tfidf = pd.DataFrame(Y.toarray(), columns = counter.get_feature_names_out())\n",
    "\n",
    "df_tfidf"
   ]
  },
  {
   "cell_type": "markdown",
   "metadata": {},
   "source": [
    "**Splitting train test set**"
   ]
  },
  {
   "cell_type": "code",
   "execution_count": 7,
   "metadata": {},
   "outputs": [
    {
     "name": "stdout",
     "output_type": "stream",
     "text": [
      "X_train shape: (712, 1347)\n",
      "y_train shape: (712,)\n",
      "X_test shape: (306, 1347)\n",
      "y_test shape: (306,)\n"
     ]
    }
   ],
   "source": [
    "X_train, X_test, y_train, y_test = train_test_split(df_tfidf, df['label_sen'], test_size=0.30, random_state=30)\n",
    "print(\"X_train shape:\", X_train.shape)\n",
    "print(\"y_train shape:\", y_train.shape)\n",
    "print(\"X_test shape:\", X_test.shape)\n",
    "print(\"y_test shape:\", y_test.shape)"
   ]
  },
  {
   "cell_type": "code",
   "execution_count": 8,
   "metadata": {},
   "outputs": [],
   "source": [
    "y_train = y_train.apply(lambda x: int(x))\n",
    "y_test = y_test.apply(lambda x: int(x))"
   ]
  },
  {
   "cell_type": "code",
   "execution_count": 9,
   "metadata": {},
   "outputs": [],
   "source": [
    "xgb_clf = xgb.XGBClassifier(objective='multi:softmax', num_class=2)"
   ]
  },
  {
   "cell_type": "markdown",
   "metadata": {},
   "source": [
    "## **K-Fold Cross Validation**"
   ]
  },
  {
   "cell_type": "code",
   "execution_count": 10,
   "metadata": {},
   "outputs": [
    {
     "data": {
      "text/plain": [
       "array([0.94405594, 0.95104895, 0.95070423, 0.95070423, 0.93661972])"
      ]
     },
     "execution_count": 10,
     "metadata": {},
     "output_type": "execute_result"
    }
   ],
   "source": [
    "scores = cross_val_score(xgb_clf, X_train, y_train, cv=5)\n",
    "scores"
   ]
  },
  {
   "cell_type": "code",
   "execution_count": 11,
   "metadata": {},
   "outputs": [
    {
     "name": "stdout",
     "output_type": "stream",
     "text": [
      "Mean cross-validation score: 0.9466 ± 0.0056\n"
     ]
    }
   ],
   "source": [
    "print(\"Mean cross-validation score: {:.4f} ± {:.4f}\".format(scores.mean(), scores.std()))"
   ]
  },
  {
   "cell_type": "code",
   "execution_count": 12,
   "metadata": {},
   "outputs": [
    {
     "data": {
      "image/png": "[encoded data removed]",
      "text/plain": [
       "<Figure size 640x480 with 1 Axes>"
      ]
     },
     "metadata": {},
     "output_type": "display_data"
    }
   ],
   "source": [
    "mean_score = np.mean(scores)\n",
    "\n",
    "sns.violinplot(x=range(1, 6), y=scores)\n",
    "plt.xlabel('Fold')\n",
    "plt.ylabel('Score')\n",
    "plt.title('K-fold Cross-Validation Scores')\n",
    "plt.axhline(mean_score, linestyle='--', color='r', label='Mean')\n",
    "plt.legend()\n",
    "plt.show()"
   ]
  },
  {
   "cell_type": "markdown",
   "metadata": {},
   "source": [
    "## **Hyperparameter Tuning**"
   ]
  },
  {
   "cell_type": "markdown",
   "metadata": {},
   "source": [
    "**Set Parameters Range**"
   ]
  },
  {
   "cell_type": "code",
   "execution_count": 13,
   "metadata": {},
   "outputs": [],
   "source": [
    "gbparameter = {\n",
    "    'max_depth': [8, 7, 6, 5, 4],\n",
    "    'n_estimators': [400, 300, 200, 100],\n",
    "    'gamma': [0, 0.1, 0.2, 0.3, 0.4, 1, 1.5, 2],\n",
    "    'learning_rate': [0.3, 0.2, 0.1, 0.05, 0.025],\n",
    "}\n",
    "\n",
    "score = {\n",
    "    'accuracy':make_scorer(accuracy_score),\n",
    "    'precision':make_scorer(precision_score),\n",
    "    'recall':make_scorer(recall_score),\n",
    "    'f1':make_scorer(f1_score, average='macro', labels=[0, 1]),\n",
    "    'roc':make_scorer(roc_auc_score)\n",
    "}"
   ]
  },
  {
   "cell_type": "markdown",
   "metadata": {},
   "source": [
    "- max_depth:  mengontrol kedalaman maksimum dari pohon keputusan individual dalam model XGBoost. Setiap pohon keputusan dibuat berdasarkan pembelahan data training menjadi cabang-cabang berdasarkan fitur-fitur yang paling relevan.\n",
    "\n",
    "- n_estimators: menentukan jumlah pohon keputusan yang akan dibangun dalam model XGBoost. XGBoost menggunakan teknik ensemble learning, yaitu menggabungkan prediksi dari beberapa pohon keputusan individual untuk mendapatkan hasil yang lebih akurat.\n",
    "\n",
    "- Gamma: nilai minimal loss reduction yang dibutuhkan pada saat pemecahan cabang. Semakin besar nilai gamma yang ditetapkan, model yang dibangun akan lebih konservatif dan memungkinkan terjadinya underfitting.\n",
    "\n",
    "- Learning_rate: tingkat penyesuaian bobot fitur. Dalam pembangunan model, setiap iterasi menghasilkan bobot untuk fitur-fitur yang dimiliki. Learning_rate berguna untuk membantu menyusutkan nilai bobot tersebut agar model yang dibangun tidak mengalami overfitting."
   ]
  },
  {
   "cell_type": "markdown",
   "metadata": {},
   "source": [
    "**GridSearchCV**"
   ]
  },
  {
   "cell_type": "code",
   "execution_count": 14,
   "metadata": {},
   "outputs": [
    {
     "name": "stdout",
     "output_type": "stream",
     "text": [
      "Best: 0.589713 using {'gamma': 0.1, 'learning_rate': 0.3, 'max_depth': 6, 'n_estimators': 400}\n",
      "Execution time: 1499.8341765403748 s\n"
     ]
    }
   ],
   "source": [
    "GB_Grid = GridSearchCV(\n",
    "    xgb_clf,\n",
    "    gbparameter,\n",
    "    scoring=score,\n",
    "    refit='f1',  \n",
    "    cv=5, \n",
    "    verbose=0,\n",
    "    n_jobs=-1\n",
    ")\n",
    "\n",
    "start_time = time.time()\n",
    "GB_result_GS = GB_Grid.fit(X_train, y_train)\n",
    "\n",
    "print(\"Best: %f using %s\" % (GB_result_GS.best_score_, GB_result_GS.best_params_))\n",
    "print(\"Execution time: \" + str((time.time() - start_time)) + ' s')"
   ]
  },
  {
   "cell_type": "markdown",
   "metadata": {},
   "source": [
    "**RandomizedSearchCV**"
   ]
  },
  {
   "cell_type": "code",
   "execution_count": 15,
   "metadata": {},
   "outputs": [
    {
     "name": "stdout",
     "output_type": "stream",
     "text": [
      "Best: 0.589713 using {'n_estimators': 400, 'max_depth': 4, 'learning_rate': 0.2, 'gamma': 0.2}\n",
      "Execution time: 211.81448197364807 s\n"
     ]
    }
   ],
   "source": [
    "GB_random = RandomizedSearchCV(\n",
    "    xgb_clf,\n",
    "    gbparameter,\n",
    "    scoring=score,\n",
    "    refit='f1',\n",
    "    cv=5,\n",
    "    verbose=0,\n",
    "    n_iter=100,\n",
    "    random_state=30,\n",
    "    n_jobs=-1,\n",
    ")\n",
    "\n",
    "start_time = time.time()\n",
    "GB_result_RS = GB_random.fit(X_train, y_train)\n",
    "\n",
    "print(\"Best: %f using %s\" % (GB_result_RS.best_score_, GB_result_RS.best_params_))\n",
    "print(\"Execution time: \" + str((time.time() - start_time)) + ' s')"
   ]
  },
  {
   "cell_type": "markdown",
   "metadata": {},
   "source": [
    "## **Evaluation**"
   ]
  },
  {
   "cell_type": "code",
   "execution_count": 16,
   "metadata": {},
   "outputs": [],
   "source": [
    "y_pred_grid = GB_result_GS.best_estimator_.predict(X_test)"
   ]
  },
  {
   "cell_type": "code",
   "execution_count": 17,
   "metadata": {},
   "outputs": [],
   "source": [
    "y_pred_random = GB_result_RS.best_estimator_.predict(X_test)"
   ]
  },
  {
   "cell_type": "markdown",
   "metadata": {},
   "source": [
    "**Accuracy, Recall, Precicion, F1-Score**"
   ]
  },
  {
   "cell_type": "code",
   "execution_count": 39,
   "metadata": {},
   "outputs": [
    {
     "name": "stdout",
     "output_type": "stream",
     "text": [
      "Grid Accuracy: 94.44%\n",
      "Grid Recall: 99.65%\n",
      "Grid Precicion: 94.72%\n",
      "Grid F1_Score: 97.12%\n"
     ]
    }
   ],
   "source": [
    "grid_accuracy = metrics.accuracy_score(y_test, y_pred_grid)\n",
    "grid_recall = metrics.recall_score(y_test, y_pred_grid)\n",
    "grid_precision = metrics.precision_score(y_test, y_pred_grid)\n",
    "grid_f1 = metrics.f1_score(y_test, y_pred_grid)\n",
    "\n",
    "grid_accuracy_percent = '{:.2%}'.format(grid_accuracy)\n",
    "grid_recall_percent = '{:.2%}'.format(grid_recall)\n",
    "grid_precision_percent = '{:.2%}'.format(grid_precision)\n",
    "grid_f1_percent = '{:.2%}'.format(grid_f1)\n",
    "\n",
    "print('Grid Accuracy:',grid_accuracy_percent)\n",
    "print('Grid Recall:',grid_recall_percent)\n",
    "print('Grid Precicion:',grid_precision_percent)\n",
    "print('Grid F1_Score:',grid_f1_percent)\n",
    " "
   ]
  },
  {
   "cell_type": "code",
   "execution_count": 38,
   "metadata": {},
   "outputs": [
    {
     "name": "stdout",
     "output_type": "stream",
     "text": [
      "Random Accuracy: 94.77%\n",
      "Random Recall: 99.65%\n",
      "Random Precicion: 95.03%\n",
      "Random F1_Score: 97.29%\n"
     ]
    }
   ],
   "source": [
    "random_accuracy = metrics.accuracy_score(y_test, y_pred_random)\n",
    "random_recall = metrics.recall_score(y_test, y_pred_random)\n",
    "random_precision = metrics.precision_score(y_test, y_pred_random)\n",
    "random_f1 = metrics.f1_score(y_test, y_pred_random)\n",
    "\n",
    "random_accuracy_percent = '{:.2%}'.format(random_accuracy)\n",
    "random_recall_percent = '{:.2%}'.format(random_recall)\n",
    "random_precision_percent = '{:.2%}'.format(random_precision)\n",
    "random_f1_percent = '{:.2%}'.format(random_f1)\n",
    "\n",
    "print('Random Accuracy:',random_accuracy_percent)\n",
    "print('Random Recall:',random_recall_percent)\n",
    "print('Random Precicion:',random_precision_percent)\n",
    "print('Random F1_Score:',random_f1_percent)\n",
    " "
   ]
  },
  {
   "cell_type": "code",
   "execution_count": 104,
   "metadata": {},
   "outputs": [
    {
     "data": {
      "image/png": "[encoded data removed]",
      "text/plain": [
       "<Figure size 1500x600 with 2 Axes>"
      ]
     },
     "metadata": {},
     "output_type": "display_data"
    }
   ],
   "source": [
    "metrics = ['Accuracy', 'Recall', 'Precision', 'F1 Score']\n",
    "scores_grid = [grid_accuracy*100, grid_recall*100, grid_precision*100, grid_f1*100]\n",
    "scores_random = [random_accuracy*100, random_recall*100, random_precision*100, random_f1*100]\n",
    "\n",
    "fig, ax = plt.subplots(1, 2, figsize=(15, 6))\n",
    "\n",
    "y_pos = np.arange(len(metrics))\n",
    "plt.subplot(1,2,1)\n",
    "plt.barh(y_pos, scores_grid, align='center', color='skyblue')\n",
    "plt.xlabel('Score')\n",
    "plt.ylabel('Metric')\n",
    "plt.title('Model Performance Metrics - Grid')\n",
    "plt.yticks(y_pos, metrics)\n",
    "for i, v in enumerate(scores_grid):\n",
    "    plt.text(v + 3, i, str(v), va='baseline')\n",
    "    \n",
    "plt.subplot(1,2,2)\n",
    "plt.barh(y_pos, scores_random, align='center', color='orange')\n",
    "plt.xlabel('Score')\n",
    "plt.title('Model Performance Metrics - Random')\n",
    "plt.yticks(y_pos, metrics)\n",
    "for i, v in enumerate(scores_random):\n",
    "    plt.text(v + 3, i, str(v), va='baseline')\n",
    "    \n",
    "plt.subplots_adjust(wspace=0.5, hspace=2)\n",
    "plt.show()\n",
    "plt.show()"
   ]
  },
  {
   "cell_type": "markdown",
   "metadata": {},
   "source": [
    "**Confusion Matrix**"
   ]
  },
  {
   "cell_type": "code",
   "execution_count": 20,
   "metadata": {},
   "outputs": [
    {
     "name": "stdout",
     "output_type": "stream",
     "text": [
      "[[  2  16]\n",
      " [  1 287]]\n"
     ]
    }
   ],
   "source": [
    "print(confusion_matrix(y_test, y_pred_grid))"
   ]
  },
  {
   "cell_type": "code",
   "execution_count": 21,
   "metadata": {},
   "outputs": [
    {
     "name": "stdout",
     "output_type": "stream",
     "text": [
      "[[  3  15]\n",
      " [  1 287]]\n"
     ]
    }
   ],
   "source": [
    "print(confusion_matrix(y_test, y_pred_random))"
   ]
  },
  {
   "cell_type": "code",
   "execution_count": 107,
   "metadata": {},
   "outputs": [
    {
     "data": {
      "image/png": "[encoded data removed]",
      "text/plain": [
       "<Figure size 800x600 with 2 Axes>"
      ]
     },
     "metadata": {},
     "output_type": "display_data"
    }
   ],
   "source": [
    "conf_mat = confusion_matrix(y_test, y_pred_grid)\n",
    "\n",
    "# Create a heatmap of the confusion matrix\n",
    "plt.figure(figsize=(8, 6))\n",
    "sns.heatmap(conf_mat, annot=True, fmt='d', cmap='Blues')\n",
    "plt.xlabel('Predicted label')\n",
    "plt.ylabel('Actual label')\n",
    "plt.title('Confusion Matrix - Grid')\n",
    "plt.show()"
   ]
  },
  {
   "cell_type": "markdown",
   "metadata": {},
   "source": [
    "dari 18 sampel uji yang termasuk dalam kelas 0, model dengan benar mengidentifikasi 2 sampel sebagai negatif dan salah mengklasifikasikan 16 sampel sebagai positif. Dari 288 sampel uji yang termasuk dalam kelas 1, model tersebut dengan benar mengidentifikasi 287 sebagai positif dan salah mengklasifikasikan 1 sebagai negatif. confusion matrix ini menunjukkan bahwa model tersebut berkinerja baik dalam mengidentifikasi sentimen positif (kelas 1) tetapi kesulitan dalam mengidentifikasi sentimen negatif (kelas 0). Ketidakseimbangan performa antara kedua kelas ini dapat disebabkan oleh berbagai faktor, seperti ketidakseimbangan data training, dll."
   ]
  },
  {
   "cell_type": "code",
   "execution_count": 108,
   "metadata": {},
   "outputs": [
    {
     "data": {
      "image/png": "[encoded data removed]",
      "text/plain": [
       "<Figure size 800x600 with 2 Axes>"
      ]
     },
     "metadata": {},
     "output_type": "display_data"
    }
   ],
   "source": [
    "conf_mat = confusion_matrix(y_test, y_pred_random)\n",
    "\n",
    "# Create a heatmap of the confusion matrix\n",
    "plt.figure(figsize=(8, 6))\n",
    "sns.heatmap(conf_mat, annot=True, fmt='d', cmap='Reds')\n",
    "plt.xlabel('Predicted label')\n",
    "plt.ylabel('Actual label')\n",
    "plt.title('Confusion Matrix - Random')\n",
    "plt.show()"
   ]
  },
  {
   "cell_type": "markdown",
   "metadata": {},
   "source": [
    "dari 18 sampel uji yang termasuk dalam kelas 0, model dengan benar mengidentifikasi 3 sampel sebagai negatif dan salah mengklasifikasikan 15 sampel sebagai positif. Dari 288 sampel uji yang termasuk dalam kelas 1, model tersebut dengan benar mengidentifikasi 287 sebagai positif dan salah mengklasifikasikan 1 sebagai negatif. confusion matrix ini menunjukkan bahwa model tersebut berkinerja baik dalam mengidentifikasi sentimen positif (kelas 1) tetapi kesulitan dalam mengidentifikasi sentimen negatif (kelas 0). Ketidakseimbangan performa antara kedua kelas ini dapat disebabkan oleh berbagai faktor, seperti ketidakseimbangan data training, dll."
   ]
  },
  {
   "cell_type": "markdown",
   "metadata": {},
   "source": [
    "**ROC AUC Curve**"
   ]
  },
  {
   "cell_type": "code",
   "execution_count": 32,
   "metadata": {},
   "outputs": [
    {
     "name": "stdout",
     "output_type": "stream",
     "text": [
      "Grid ROC Score: 0.8630401234567902\n"
     ]
    }
   ],
   "source": [
    "y_prob_GRID = GB_result_GS.best_estimator_.predict_proba(X_test)[:, 1]\n",
    "roc_auc_grid = roc_auc_score(y_test, y_prob_GRID)\n",
    "print('Grid ROC Score:', roc_auc_grid)"
   ]
  },
  {
   "cell_type": "code",
   "execution_count": 33,
   "metadata": {},
   "outputs": [
    {
     "name": "stdout",
     "output_type": "stream",
     "text": [
      "Random ROC Score: 0.8592785493827161\n"
     ]
    }
   ],
   "source": [
    "y_prob_random = GB_result_RS.best_estimator_.predict_proba(X_test)[:, 1]\n",
    "roc_auc_random = roc_auc_score(y_test, y_prob_random)\n",
    "print('Random ROC Score:', roc_auc_random)"
   ]
  },
  {
   "cell_type": "code",
   "execution_count": 36,
   "metadata": {},
   "outputs": [
    {
     "data": {
      "image/png": "[encoded data removed]",
      "text/plain": [
       "<Figure size 800x600 with 1 Axes>"
      ]
     },
     "metadata": {},
     "output_type": "display_data"
    }
   ],
   "source": [
    "fpr, tpr, thresholds = roc_curve(y_test, y_prob_GRID)\n",
    "\n",
    "plt.figure(figsize=(8, 6))\n",
    "plt.plot(fpr, tpr, label='ROC curve (AUC = %0.3f)' % roc_auc_grid)\n",
    "plt.plot([0, 1], [0, 1], 'k--')\n",
    "plt.xlim([0.0, 1.0])\n",
    "plt.ylim([0.0, 1.05])\n",
    "plt.xlabel('False Positive Rate')\n",
    "plt.ylabel('True Positive Rate')\n",
    "plt.title('Receiver Operating Characteristic - Grid')\n",
    "plt.legend(loc=\"lower right\")\n",
    "plt.show()"
   ]
  },
  {
   "cell_type": "code",
   "execution_count": 106,
   "metadata": {},
   "outputs": [
    {
     "data": {
      "image/png": "[encoded data removed]",
      "text/plain": [
       "<Figure size 800x600 with 1 Axes>"
      ]
     },
     "metadata": {},
     "output_type": "display_data"
    }
   ],
   "source": [
    "fpr_random, tpr_random, threshold_random = roc_curve(y_test, y_prob_random)\n",
    "\n",
    "plt.figure(figsize=(8, 6))\n",
    "plt.plot(fpr_random, tpr_random, label='ROC curve (AUC = %0.3f)' % roc_auc_random, color='red')\n",
    "plt.plot([0, 1], [0, 1], 'k--')\n",
    "plt.xlim([0.0, 1.0])\n",
    "plt.ylim([0.0, 1.05])\n",
    "plt.xlabel('False Positive Rate')\n",
    "plt.ylabel('True Positive Rate')\n",
    "plt.title('Receiver Operating Characteristic - Random')\n",
    "plt.legend(loc=\"lower right\")\n",
    "plt.show()"
   ]
  },
  {
   "cell_type": "markdown",
   "metadata": {},
   "source": [
    "## **Conclusion**"
   ]
  },
  {
   "cell_type": "markdown",
   "metadata": {},
   "source": [
    "1. mean cross-validation score sebesar 0,9466 menunjukkan bahwa, rata-rata, model mencapai akurasi 94,66% ketika memprediksi label set pengujian yang diadakan. standar deviasi sebesar 0,0056 (sekitar 0,56%) menunjukkan bahwa performa model relatif konsisten di berbagai bagian prosedur validasi silang.\n",
    "\n",
    "2. Berdasarkan output, metode penyetelan hyperparameter Grid Search dan Random Search untuk menghasilkan skor terbaik yang sama sebesar 0,589713 menggunakan hyperparameter yang berbeda. Metode grid search menggunakan total waktu eksekusi sebesar 1499.83 detik, sedangkan metode random search hanya membutuhkan waktu 211.81 detik dengan selisih waktu 1238,02 detik.hyperparameter yang ditemukan oleh kedua metode tersebut sedikit berbeda. Untuk Grid Search, hyperparameter terbaik adalah 'gamma': 0,1, 'learning_rate': 0,3, 'max_ depth': 6, dan 'n_estimators': 400. Sebaliknya, hyperparameter terbaik yang ditemukan melalui Random Search adalah 'n_estimators':400, 'kedalaman_maks': 4, 'laju_belajar': 0,2, dan 'gamma': 0,2. Secara umum, hyperparameter yang ditemukan oleh kedua metode serupa dalam hal 'n_estimators' dan 'learning_rate', yang menunjukkan bahwa parameter ini mungkin berdampak signifikan terhadap performa model. Kedua metode tuning hyperparameter yang digunakan dalam kasus ini menghasilkan skor terbaik yang serupa, namun metode pRandom Search lebih efisien dalam hal waktu eksekusi.\n",
    "\n",
    "3.  - Accuracy: Random Search mencapai akurasi yang sedikit lebih tinggi (94,77%) dibandingkan dengan Grid Search (94,44%).\n",
    "    - Recall: Kedua metode mencapai recall yang sama (99,65%).\n",
    "    - Precicion: Random Search memiliki presisi yang sedikit lebih tinggi (95,03%) dibandingkan Grid Search (94,72%).\n",
    "    - F1-Score : Random Search memiliki F1-Score yang sedikit lebih baik (97,29%) dibandingkan dengan Grid Search (97,12%).\n",
    "\n",
    "    Meskipun Random Search menunjukkan sedikit peningkatan pada beberapa metrik, perbedaan antara kedua metode tersebut sangat kecil. Dalam kasus khusus ini, Grid Search dan Random Search menghasilkan kinerja yang sebanding untuk analisis sentimen menggunakan XGBoost.\n",
    "\n",
    "4. Penyetelan hyperparameter Grid Search dan Random Search menghasilkan model XGBoost dengan performa yang kuat dalam analisis sentimen. Model tersebut mencapai akurasi tinggi dalam mengidentifikasi sentimen negatif dan positif, dengan jumlah kesalahan klasifikasi yang sangat kecil. Dari kedua metode tersebut, hanya terdapat sedikit perbedaan dalam mengklasifikasikan kelas negatif. Hal ini menunjukkan bahwa pilihan hyperparameter yang ditemukan oleh GridSearchCV dan RandomizedSearchCV tidak berdampak signifikan terhadap kemampuan model dalam mengklasifikasikan data pengujian dengan benar.\n",
    "\n",
    "5. Skor AUC-ROC merupakan ukuran kemampuan model dalam membedakan kelas positif dan negatif. Skor 1 menunjukkan model sempurna, sedangkan skor 0,5 menunjukkan model yang kinerjanya tidak lebih baik dari tebakan acak.  skor AUC-ROC_grid sebesar 0.8630 menunjukkan bahwa model tersebut memiliki kinerja yang cukup baik dalam membedakan antara sentimen positif dan negatif. begitu pula dalam AUC-ROC_random sebesar 0.8592 menunjukkan bahwa model tersebut memiliki kinerja yang cukup baik dalam membedakan antara sentimen positif dan negatif."
   ]
  },
  {
   "cell_type": "markdown",
   "metadata": {},
   "source": []
  }
 ],
 "metadata": {
  "kernelspec": {
   "display_name": "base",
   "language": "python",
   "name": "python3"
  },
  "language_info": {
   "codemirror_mode": {
    "name": "ipython",
    "version": 3
   },
   "file_extension": ".py",
   "mimetype": "text/x-python",
   "name": "python",
   "nbconvert_exporter": "python",
   "pygments_lexer": "ipython3",
   "version": "3.11.4"
  }
 },
 "nbformat": 4,
 "nbformat_minor": 2
}
